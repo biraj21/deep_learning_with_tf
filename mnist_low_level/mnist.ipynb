{
 "cells": [
  {
   "cell_type": "code",
   "execution_count": 1,
   "id": "80664264",
   "metadata": {},
   "outputs": [],
   "source": [
    "import tensorflow as tf"
   ]
  },
  {
   "cell_type": "code",
   "execution_count": 2,
   "id": "b5c16896",
   "metadata": {},
   "outputs": [],
   "source": [
    "class NaiveDense:\n",
    "    \"\"\"\n",
    "    A fully connected layer.\n",
    "    \"\"\"\n",
    "\n",
    "    def __init__(self, input_size, num_neurons, activation):\n",
    "        self.activation = activation\n",
    "\n",
    "        # randomly initialize weights in range [0, 0.1)\n",
    "        self.W = tf.Variable(\n",
    "            tf.random.uniform(\n",
    "                shape=(input_size, num_neurons),\n",
    "                minval=0,\n",
    "                maxval=0.1\n",
    "            )\n",
    "        )\n",
    "\n",
    "        # initialize biases to 0\n",
    "        self.b = tf.Variable(\n",
    "            tf.zeros(shape=(num_neurons,))\n",
    "        )\n",
    "\n",
    "    def __call__(self, inputs):\n",
    "        \"\"\"\n",
    "        Transform the inputs of this layer with weighted sum and activation.\n",
    "        \"\"\"\n",
    "\n",
    "        return self.activation(tf.matmul(inputs, self.W) + self.b)\n",
    "\n",
    "    @property\n",
    "    def weights(self):\n",
    "        \"\"\"\n",
    "        Get weights and biases of this layer.\n",
    "        \"\"\"\n",
    "\n",
    "        return [self.W, self.b]"
   ]
  },
  {
   "cell_type": "code",
   "execution_count": 3,
   "id": "6e25b8b2",
   "metadata": {},
   "outputs": [],
   "source": [
    "class NaiveSequential:\n",
    "    \"\"\"\n",
    "    A neural network with sequential model.\n",
    "    \"\"\"\n",
    "\n",
    "    def __init__(self, layers):\n",
    "        self.layers = layers\n",
    "\n",
    "    def __call__(self, inputs):\n",
    "        \"\"\"\n",
    "        A forward pass through the network.\n",
    "        \"\"\"\n",
    "\n",
    "        x = inputs\n",
    "        for layer in self.layers:\n",
    "            x = layer(x)\n",
    "\n",
    "        return x\n",
    "\n",
    "    def compile(self, optimizer, loss):\n",
    "        \"\"\"\n",
    "        Configure the network before training.\n",
    "        \"\"\"\n",
    "\n",
    "        self.optimizer = optimizer\n",
    "        self.loss = loss\n",
    "\n",
    "    def fit(self, inputs, labels, epochs, batch_size=128):\n",
    "        \"\"\"\n",
    "        Train the network.\n",
    "        \"\"\"\n",
    "\n",
    "        for epoch in range(epochs):\n",
    "            print(f\"{epoch})\")\n",
    "\n",
    "            batch_generator = BatchGenerator(inputs, labels)\n",
    "            for i in range(batch_generator.num_batches):\n",
    "                inputs_batch, labels_batch = batch_generator.next()\n",
    "                loss = self.one_training_step(inputs_batch, labels_batch)\n",
    "                if i % 100 == 0:\n",
    "                    print(f\"  loss at batch {i}: {loss:.2f}\")\n",
    "\n",
    "    def one_training_step(self, inputs_batch, labels_batch):\n",
    "        with tf.GradientTape() as tape:\n",
    "            # record the operations performed on tensors within this scope\n",
    "\n",
    "            # make a forwords pass\n",
    "            predictions = self(inputs_batch)\n",
    "\n",
    "            # compute average loss of this batch\n",
    "            per_sample_losses = self.loss(labels_batch, predictions)\n",
    "            average_loss = tf.reduce_mean(per_sample_losses)\n",
    "\n",
    "        # compute gradients of loss wrt. network parameters with automatic differentiation\n",
    "        gradients = tape.gradient(average_loss, self.weights)\n",
    "\n",
    "        # update the parameters using gradients\n",
    "        self.update_weights(gradients, self.weights)\n",
    "\n",
    "        return average_loss\n",
    "\n",
    "    def update_weights(self, gradients, weights):\n",
    "        self.optimizer.apply_gradients(zip(gradients, weights))\n",
    "\n",
    "    @property\n",
    "    def weights(self):\n",
    "        \"\"\"\n",
    "        Get weights and biases of the network.\n",
    "        \"\"\"\n",
    "\n",
    "        weights = []\n",
    "        for layer in self.layers:\n",
    "            weights += layer.weights\n",
    "\n",
    "        return weights"
   ]
  },
  {
   "cell_type": "code",
   "execution_count": 4,
   "id": "ab2db2b1",
   "metadata": {},
   "outputs": [],
   "source": [
    "import math\n",
    "\n",
    "class BatchGenerator:\n",
    "    \"\"\"\n",
    "    For mini-batches of samples/inputs.\n",
    "    \"\"\"\n",
    "\n",
    "    def __init__(self, inputs, labels, batch_size=128):\n",
    "        assert len(inputs) == len(labels)\n",
    "\n",
    "        self.index = 0\n",
    "        self.inputs = inputs\n",
    "        self.labels = labels\n",
    "        self.batch_size = batch_size\n",
    "        self.num_batches = math.ceil(len(inputs) / batch_size)\n",
    "\n",
    "    def next(self):\n",
    "        \"\"\"\n",
    "        Load the next batch.\n",
    "        \"\"\"\n",
    "\n",
    "        inputs = self.inputs[self.index : self.index + self.batch_size]\n",
    "        labels = self.labels[self.index : self.index + self.batch_size] \n",
    "        self.index += self.batch_size\n",
    "        return inputs, labels"
   ]
  },
  {
   "cell_type": "code",
   "execution_count": 5,
   "id": "ebff4b9f",
   "metadata": {},
   "outputs": [],
   "source": [
    "(train_images, train_labels), (test_images, test_labels) = tf.keras.datasets.mnist.load_data()\n",
    "\n",
    "train_images = train_images.reshape(-1, 28 * 28).astype(\"float32\") / 255\n",
    "test_images = test_images.reshape(-1, 28 * 28).astype(\"float32\") / 255"
   ]
  },
  {
   "cell_type": "code",
   "execution_count": 12,
   "id": "6ceca19f",
   "metadata": {},
   "outputs": [],
   "source": [
    "model = NaiveSequential([\n",
    "    NaiveDense(28 * 28, 512, tf.nn.relu),\n",
    "    NaiveDense(512, 10, tf.nn.softmax)\n",
    "])\n",
    "\n",
    "model.compile(\n",
    "#     optimizer=tf.keras.optimizers.SGD(learning_rate=0.001),\n",
    "    optimizer=tf.keras.optimizers.RMSprop(),\n",
    "    loss=tf.keras.losses.sparse_categorical_crossentropy\n",
    ")"
   ]
  },
  {
   "cell_type": "code",
   "execution_count": 13,
   "id": "80213942",
   "metadata": {},
   "outputs": [
    {
     "name": "stdout",
     "output_type": "stream",
     "text": [
      "0)\n",
      "  loss at batch 0: 6.48\n",
      "  loss at batch 100: 0.74\n",
      "  loss at batch 200: 0.39\n",
      "  loss at batch 300: 0.33\n",
      "  loss at batch 400: 0.54\n",
      "1)\n",
      "  loss at batch 0: 0.25\n",
      "  loss at batch 100: 0.40\n",
      "  loss at batch 200: 0.22\n",
      "  loss at batch 300: 0.31\n",
      "  loss at batch 400: 0.42\n",
      "2)\n",
      "  loss at batch 0: 0.18\n",
      "  loss at batch 100: 0.19\n",
      "  loss at batch 200: 0.21\n",
      "  loss at batch 300: 0.23\n",
      "  loss at batch 400: 0.29\n",
      "3)\n",
      "  loss at batch 0: 0.13\n",
      "  loss at batch 100: 0.11\n",
      "  loss at batch 200: 0.14\n",
      "  loss at batch 300: 0.13\n",
      "  loss at batch 400: 0.19\n",
      "4)\n",
      "  loss at batch 0: 0.08\n",
      "  loss at batch 100: 0.08\n",
      "  loss at batch 200: 0.09\n",
      "  loss at batch 300: 0.10\n",
      "  loss at batch 400: 0.14\n"
     ]
    }
   ],
   "source": [
    "model.fit(train_images, train_labels, epochs=5)"
   ]
  },
  {
   "cell_type": "code",
   "execution_count": 14,
   "id": "9691e37f",
   "metadata": {},
   "outputs": [],
   "source": [
    "predictions = model(test_images)"
   ]
  },
  {
   "cell_type": "code",
   "execution_count": 15,
   "id": "126b1e4e",
   "metadata": {},
   "outputs": [
    {
     "name": "stdout",
     "output_type": "stream",
     "text": [
      "accuracy: 0.97\n"
     ]
    }
   ],
   "source": [
    "import numpy as np\n",
    "\n",
    "predictions = np.argmax(predictions, axis=1)\n",
    "matches = predictions == test_labels\n",
    "print(f\"accuracy: {matches.mean():.2f}\")"
   ]
  },
  {
   "cell_type": "code",
   "execution_count": 16,
   "id": "2fa62553",
   "metadata": {},
   "outputs": [
    {
     "data": {
      "text/plain": [
       "<matplotlib.image.AxesImage at 0x7f3f31c08bb0>"
      ]
     },
     "execution_count": 16,
     "metadata": {},
     "output_type": "execute_result"
    },
    {
     "data": {
      "image/png": "[encoded data removed]",
      "text/plain": [
       "<Figure size 432x288 with 1 Axes>"
      ]
     },
     "metadata": {
      "needs_background": "light"
     },
     "output_type": "display_data"
    }
   ],
   "source": [
    "import matplotlib.pyplot as plt\n",
    "\n",
    "plt.imshow(test_images[0].reshape(28, 28))"
   ]
  },
  {
   "cell_type": "code",
   "execution_count": 17,
   "id": "df7d1807",
   "metadata": {},
   "outputs": [
    {
     "data": {
      "text/plain": [
       "7"
      ]
     },
     "execution_count": 17,
     "metadata": {},
     "output_type": "execute_result"
    }
   ],
   "source": [
    "predictions[0]"
   ]
  },
  {
   "cell_type": "code",
   "execution_count": null,
   "id": "824a7714",
   "metadata": {},
   "outputs": [],
   "source": []
  }
 ],
 "metadata": {
  "kernelspec": {
   "display_name": "Python 3 (ipykernel)",
   "language": "python",
   "name": "python3"
  },
  "language_info": {
   "codemirror_mode": {
    "name": "ipython",
    "version": 3
   },
   "file_extension": ".py",
   "mimetype": "text/x-python",
   "name": "python",
   "nbconvert_exporter": "python",
   "pygments_lexer": "ipython3",
   "version": "3.10.4"
  }
 },
 "nbformat": 4,
 "nbformat_minor": 5
}
