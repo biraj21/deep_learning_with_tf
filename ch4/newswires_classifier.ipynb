{
  "nbformat": 4,
  "nbformat_minor": 0,
  "metadata": {
    "colab": {
      "name": "newswires_classification.ipynb",
      "provenance": [],
      "authorship_tag": "ABX9TyNgFGxM6BVafyetYyQKeLnK",
      "include_colab_link": true
    },
    "kernelspec": {
      "name": "python3",
      "display_name": "Python 3"
    },
    "language_info": {
      "name": "python"
    }
  },
  "cells": [
    {
      "cell_type": "markdown",
      "metadata": {
        "id": "view-in-github",
        "colab_type": "text"
      },
      "source": [
        "<a href=\"https://colab.research.google.com/github/biraj21/deep_learning_with_tf/blob/main/ch4/newswires_classifier.ipynb\" target=\"_parent\"><img src=\"https://colab.research.google.com/assets/colab-badge.svg\" alt=\"Open In Colab\"/></a>"
      ]
    },
    {
      "cell_type": "code",
      "execution_count": 1,
      "metadata": {
        "id": "qrihJnqgb62z"
      },
      "outputs": [],
      "source": [
        "import numpy as np\n",
        "import pandas as pd\n",
        "from tensorflow import keras\n",
        "from tensorflow.keras import layers\n",
        "from tensorflow.keras.datasets import reuters"
      ]
    },
    {
      "cell_type": "code",
      "source": [
        "def vectorize_sequences(sequences, dims=10_000):\n",
        "    result = np.zeros((len(sequences), dims))\n",
        "    for i, sequence in enumerate(sequences):\n",
        "        for word_index in sequence:\n",
        "            result[i, word_index] = 1\n",
        "\n",
        "    return result"
      ],
      "metadata": {
        "id": "oDU87EGAnxLB"
      },
      "execution_count": 2,
      "outputs": []
    },
    {
      "cell_type": "code",
      "source": [
        "(X_train, y_train), (X_test, y_test) = reuters.load_data(num_words=10_000)\n",
        "X_train = vectorize_sequences(X_train)\n",
        "X_test = vectorize_sequences(X_test)"
      ],
      "metadata": {
        "id": "hJYidfc2cpgg"
      },
      "execution_count": 3,
      "outputs": []
    },
    {
      "cell_type": "code",
      "source": [
        "# setting aside 1000 training samples for model validation\n",
        "X_val = X_train[:1000]\n",
        "y_val = y_train[:1000]\n",
        "\n",
        "partial_X_train = X_train[1000:]\n",
        "partial_y_train = y_train[1000:]"
      ],
      "metadata": {
        "id": "VziMhEgDqjwD"
      },
      "execution_count": 4,
      "outputs": []
    },
    {
      "cell_type": "code",
      "source": [
        "model = keras.Sequential([\n",
        "    layers.Dense(128, activation=\"relu\"),\n",
        "    layers.Dense(64, activation=\"relu\"),\n",
        "    layers.Dense(46, activation=\"softmax\"),\n",
        "])\n",
        "\n",
        "model.compile(\n",
        "    optimizer=\"rmsprop\",\n",
        "    loss=\"sparse_categorical_crossentropy\",\n",
        "    metrics=[\"accuracy\"]\n",
        ")\n",
        "\n",
        "history = model.fit(\n",
        "    partial_X_train, \n",
        "    partial_y_train,\n",
        "    validation_data=(X_val, y_val),\n",
        "    epochs=20,\n",
        "    batch_size=256\n",
        ")\n",
        "\n",
        "epochs_range = range(1, 21)\n",
        "df_history = pd.DataFrame(history.history, index=epochs_range)"
      ],
      "metadata": {
        "id": "cokfOR2WwE-f",
        "outputId": "4313f878-f338-4722-9b87-2f0f90dbce6d",
        "colab": {
          "base_uri": "https://localhost:8080/"
        }
      },
      "execution_count": 5,
      "outputs": [
        {
          "output_type": "stream",
          "name": "stdout",
          "text": [
            "Epoch 1/20\n",
            "32/32 [==============================] - 4s 92ms/step - loss: 1.9932 - accuracy: 0.6113 - val_loss: 1.3142 - val_accuracy: 0.7110\n",
            "Epoch 2/20\n",
            "32/32 [==============================] - 3s 81ms/step - loss: 0.9766 - accuracy: 0.7878 - val_loss: 1.0535 - val_accuracy: 0.7740\n",
            "Epoch 3/20\n",
            "32/32 [==============================] - 3s 85ms/step - loss: 0.6429 - accuracy: 0.8647 - val_loss: 1.0279 - val_accuracy: 0.7700\n",
            "Epoch 4/20\n",
            "32/32 [==============================] - 2s 52ms/step - loss: 0.4435 - accuracy: 0.9050 - val_loss: 0.9286 - val_accuracy: 0.8030\n",
            "Epoch 5/20\n",
            "32/32 [==============================] - 1s 46ms/step - loss: 0.3168 - accuracy: 0.9330 - val_loss: 0.9404 - val_accuracy: 0.7980\n",
            "Epoch 6/20\n",
            "32/32 [==============================] - 1s 45ms/step - loss: 0.2486 - accuracy: 0.9442 - val_loss: 0.9084 - val_accuracy: 0.8110\n",
            "Epoch 7/20\n",
            "32/32 [==============================] - 1s 45ms/step - loss: 0.2071 - accuracy: 0.9471 - val_loss: 0.9729 - val_accuracy: 0.8080\n",
            "Epoch 8/20\n",
            "32/32 [==============================] - 1s 44ms/step - loss: 0.1795 - accuracy: 0.9523 - val_loss: 1.0722 - val_accuracy: 0.7870\n",
            "Epoch 9/20\n",
            "32/32 [==============================] - 1s 43ms/step - loss: 0.1604 - accuracy: 0.9540 - val_loss: 1.0873 - val_accuracy: 0.7910\n",
            "Epoch 10/20\n",
            "32/32 [==============================] - 1s 45ms/step - loss: 0.1479 - accuracy: 0.9536 - val_loss: 1.0791 - val_accuracy: 0.7920\n",
            "Epoch 11/20\n",
            "32/32 [==============================] - 1s 44ms/step - loss: 0.1447 - accuracy: 0.9550 - val_loss: 1.1148 - val_accuracy: 0.7860\n",
            "Epoch 12/20\n",
            "32/32 [==============================] - 1s 44ms/step - loss: 0.1326 - accuracy: 0.9555 - val_loss: 1.0835 - val_accuracy: 0.7940\n",
            "Epoch 13/20\n",
            "32/32 [==============================] - 1s 43ms/step - loss: 0.1277 - accuracy: 0.9565 - val_loss: 1.0591 - val_accuracy: 0.8040\n",
            "Epoch 14/20\n",
            "32/32 [==============================] - 1s 43ms/step - loss: 0.1226 - accuracy: 0.9560 - val_loss: 1.1148 - val_accuracy: 0.7960\n",
            "Epoch 15/20\n",
            "32/32 [==============================] - 3s 97ms/step - loss: 0.1207 - accuracy: 0.9568 - val_loss: 1.1856 - val_accuracy: 0.7940\n",
            "Epoch 16/20\n",
            "32/32 [==============================] - 2s 52ms/step - loss: 0.1151 - accuracy: 0.9569 - val_loss: 1.1316 - val_accuracy: 0.7910\n",
            "Epoch 17/20\n",
            "32/32 [==============================] - 2s 57ms/step - loss: 0.1134 - accuracy: 0.9559 - val_loss: 1.2031 - val_accuracy: 0.8000\n",
            "Epoch 18/20\n",
            "32/32 [==============================] - 2s 60ms/step - loss: 0.1103 - accuracy: 0.9565 - val_loss: 1.2556 - val_accuracy: 0.7820\n",
            "Epoch 19/20\n",
            "32/32 [==============================] - 2s 67ms/step - loss: 0.1069 - accuracy: 0.9559 - val_loss: 1.2059 - val_accuracy: 0.7920\n",
            "Epoch 20/20\n",
            "32/32 [==============================] - 1s 43ms/step - loss: 0.1059 - accuracy: 0.9567 - val_loss: 1.1614 - val_accuracy: 0.8050\n"
          ]
        }
      ]
    },
    {
      "cell_type": "code",
      "source": [
        "df_history.loc[:, [\"loss\",\"val_loss\"]].plot(\n",
        "    xticks=epochs_range,\n",
        "    xlabel=\"Epochs\",\n",
        "    ylabel=\"Loss\"\n",
        ")\n",
        "df_history.loc[:, [\"accuracy\", \"val_accuracy\"]].plot(\n",
        "    xticks=epochs_range,\n",
        "    xlabel=\"Epochs\",\n",
        "    ylabel=\"Accuracy\"\n",
        ")"
      ],
      "metadata": {
        "id": "OdEjhpo8sSRa",
        "outputId": "e3165207-c6dd-40cb-9b2c-687b905c5481",
        "colab": {
          "base_uri": "https://localhost:8080/",
          "height": 558
        }
      },
      "execution_count": 6,
      "outputs": [
        {
          "output_type": "execute_result",
          "data": {
            "text/plain": [
              "<matplotlib.axes._subplots.AxesSubplot at 0x7fdf8d7fc9d0>"
            ]
          },
          "metadata": {},
          "execution_count": 6
        },
        {
          "output_type": "display_data",
          "data": {
            "text/plain": [
              "<Figure size 432x288 with 1 Axes>"
            ],
            "image/png": "[encoded data removed]"
          },
          "metadata": {
            "needs_background": "light"
          }
        },
        {
          "output_type": "display_data",
          "data": {
            "text/plain": [
              "<Figure size 432x288 with 1 Axes>"
            ],
            "image/png": "[encoded data removed]"
          },
          "metadata": {
            "needs_background": "light"
          }
        }
      ]
    },
    {
      "cell_type": "code",
      "source": [
        "df_history.head(10)"
      ],
      "metadata": {
        "id": "keYUJJ6nu3VE",
        "outputId": "207ad4f7-7236-4efe-fb99-d70b68b4f57c",
        "colab": {
          "base_uri": "https://localhost:8080/",
          "height": 363
        }
      },
      "execution_count": 7,
      "outputs": [
        {
          "output_type": "execute_result",
          "data": {
            "text/plain": [
              "        loss  accuracy  val_loss  val_accuracy\n",
              "1   1.993230  0.611250  1.314171         0.711\n",
              "2   0.976648  0.787772  1.053497         0.774\n",
              "3   0.642879  0.864696  1.027901         0.770\n",
              "4   0.443486  0.905036  0.928642         0.803\n",
              "5   0.316806  0.932974  0.940443         0.798\n",
              "6   0.248569  0.944250  0.908367         0.811\n",
              "7   0.207057  0.947131  0.972892         0.808\n",
              "8   0.179479  0.952268  1.072234         0.787\n",
              "9   0.160356  0.954022  1.087332         0.791\n",
              "10  0.147912  0.953646  1.079068         0.792"
            ],
            "text/html": [
              "\n",
              "  <div id=\"df-b81f9eb2-6d25-4ae6-881a-3ade741f0221\">\n",
              "    <div class=\"colab-df-container\">\n",
              "      <div>\n",
              "<style scoped>\n",
              "    .dataframe tbody tr th:only-of-type {\n",
              "        vertical-align: middle;\n",
              "    }\n",
              "\n",
              "    .dataframe tbody tr th {\n",
              "        vertical-align: top;\n",
              "    }\n",
              "\n",
              "    .dataframe thead th {\n",
              "        text-align: right;\n",
              "    }\n",
              "</style>\n",
              "<table border=\"1\" class=\"dataframe\">\n",
              "  <thead>\n",
              "    <tr style=\"text-align: right;\">\n",
              "      <th></th>\n",
              "      <th>loss</th>\n",
              "      <th>accuracy</th>\n",
              "      <th>val_loss</th>\n",
              "      <th>val_accuracy</th>\n",
              "    </tr>\n",
              "  </thead>\n",
              "  <tbody>\n",
              "    <tr>\n",
              "      <th>1</th>\n",
              "      <td>1.993230</td>\n",
              "      <td>0.611250</td>\n",
              "      <td>1.314171</td>\n",
              "      <td>0.711</td>\n",
              "    </tr>\n",
              "    <tr>\n",
              "      <th>2</th>\n",
              "      <td>0.976648</td>\n",
              "      <td>0.787772</td>\n",
              "      <td>1.053497</td>\n",
              "      <td>0.774</td>\n",
              "    </tr>\n",
              "    <tr>\n",
              "      <th>3</th>\n",
              "      <td>0.642879</td>\n",
              "      <td>0.864696</td>\n",
              "      <td>1.027901</td>\n",
              "      <td>0.770</td>\n",
              "    </tr>\n",
              "    <tr>\n",
              "      <th>4</th>\n",
              "      <td>0.443486</td>\n",
              "      <td>0.905036</td>\n",
              "      <td>0.928642</td>\n",
              "      <td>0.803</td>\n",
              "    </tr>\n",
              "    <tr>\n",
              "      <th>5</th>\n",
              "      <td>0.316806</td>\n",
              "      <td>0.932974</td>\n",
              "      <td>0.940443</td>\n",
              "      <td>0.798</td>\n",
              "    </tr>\n",
              "    <tr>\n",
              "      <th>6</th>\n",
              "      <td>0.248569</td>\n",
              "      <td>0.944250</td>\n",
              "      <td>0.908367</td>\n",
              "      <td>0.811</td>\n",
              "    </tr>\n",
              "    <tr>\n",
              "      <th>7</th>\n",
              "      <td>0.207057</td>\n",
              "      <td>0.947131</td>\n",
              "      <td>0.972892</td>\n",
              "      <td>0.808</td>\n",
              "    </tr>\n",
              "    <tr>\n",
              "      <th>8</th>\n",
              "      <td>0.179479</td>\n",
              "      <td>0.952268</td>\n",
              "      <td>1.072234</td>\n",
              "      <td>0.787</td>\n",
              "    </tr>\n",
              "    <tr>\n",
              "      <th>9</th>\n",
              "      <td>0.160356</td>\n",
              "      <td>0.954022</td>\n",
              "      <td>1.087332</td>\n",
              "      <td>0.791</td>\n",
              "    </tr>\n",
              "    <tr>\n",
              "      <th>10</th>\n",
              "      <td>0.147912</td>\n",
              "      <td>0.953646</td>\n",
              "      <td>1.079068</td>\n",
              "      <td>0.792</td>\n",
              "    </tr>\n",
              "  </tbody>\n",
              "</table>\n",
              "</div>\n",
              "      <button class=\"colab-df-convert\" onclick=\"convertToInteractive('df-b81f9eb2-6d25-4ae6-881a-3ade741f0221')\"\n",
              "              title=\"Convert this dataframe to an interactive table.\"\n",
              "              style=\"display:none;\">\n",
              "        \n",
              "  <svg xmlns=\"http://www.w3.org/2000/svg\" height=\"24px\"viewBox=\"0 0 24 24\"\n",
              "       width=\"24px\">\n",
              "    <path d=\"M0 0h24v24H0V0z\" fill=\"none\"/>\n",
              "    <path d=\"M18.56 5.44l.94 2.06.94-2.06 2.06-.94-2.06-.94-.94-2.06-.94 2.06-2.06.94zm-11 1L8.5 8.5l.94-2.06 2.06-.94-2.06-.94L8.5 2.5l-.94 2.06-2.06.94zm10 10l.94 2.06.94-2.06 2.06-.94-2.06-.94-.94-2.06-.94 2.06-2.06.94z\"/><path d=\"M17.41 7.96l-1.37-1.37c-.4-.4-.92-.59-1.43-.59-.52 0-1.04.2-1.43.59L10.3 9.45l-7.72 7.72c-.78.78-.78 2.05 0 2.83L4 21.41c.39.39.9.59 1.41.59.51 0 1.02-.2 1.41-.59l7.78-7.78 2.81-2.81c.8-.78.8-2.07 0-2.86zM5.41 20L4 18.59l7.72-7.72 1.47 1.35L5.41 20z\"/>\n",
              "  </svg>\n",
              "      </button>\n",
              "      \n",
              "  <style>\n",
              "    .colab-df-container {\n",
              "      display:flex;\n",
              "      flex-wrap:wrap;\n",
              "      gap: 12px;\n",
              "    }\n",
              "\n",
              "    .colab-df-convert {\n",
              "      background-color: #E8F0FE;\n",
              "      border: none;\n",
              "      border-radius: 50%;\n",
              "      cursor: pointer;\n",
              "      display: none;\n",
              "      fill: #1967D2;\n",
              "      height: 32px;\n",
              "      padding: 0 0 0 0;\n",
              "      width: 32px;\n",
              "    }\n",
              "\n",
              "    .colab-df-convert:hover {\n",
              "      background-color: #E2EBFA;\n",
              "      box-shadow: 0px 1px 2px rgba(60, 64, 67, 0.3), 0px 1px 3px 1px rgba(60, 64, 67, 0.15);\n",
              "      fill: #174EA6;\n",
              "    }\n",
              "\n",
              "    [theme=dark] .colab-df-convert {\n",
              "      background-color: #3B4455;\n",
              "      fill: #D2E3FC;\n",
              "    }\n",
              "\n",
              "    [theme=dark] .colab-df-convert:hover {\n",
              "      background-color: #434B5C;\n",
              "      box-shadow: 0px 1px 3px 1px rgba(0, 0, 0, 0.15);\n",
              "      filter: drop-shadow(0px 1px 2px rgba(0, 0, 0, 0.3));\n",
              "      fill: #FFFFFF;\n",
              "    }\n",
              "  </style>\n",
              "\n",
              "      <script>\n",
              "        const buttonEl =\n",
              "          document.querySelector('#df-b81f9eb2-6d25-4ae6-881a-3ade741f0221 button.colab-df-convert');\n",
              "        buttonEl.style.display =\n",
              "          google.colab.kernel.accessAllowed ? 'block' : 'none';\n",
              "\n",
              "        async function convertToInteractive(key) {\n",
              "          const element = document.querySelector('#df-b81f9eb2-6d25-4ae6-881a-3ade741f0221');\n",
              "          const dataTable =\n",
              "            await google.colab.kernel.invokeFunction('convertToInteractive',\n",
              "                                                     [key], {});\n",
              "          if (!dataTable) return;\n",
              "\n",
              "          const docLinkHtml = 'Like what you see? Visit the ' +\n",
              "            '<a target=\"_blank\" href=https://colab.research.google.com/notebooks/data_table.ipynb>data table notebook</a>'\n",
              "            + ' to learn more about interactive tables.';\n",
              "          element.innerHTML = '';\n",
              "          dataTable['output_type'] = 'display_data';\n",
              "          await google.colab.output.renderOutput(dataTable, element);\n",
              "          const docLink = document.createElement('div');\n",
              "          docLink.innerHTML = docLinkHtml;\n",
              "          element.appendChild(docLink);\n",
              "        }\n",
              "      </script>\n",
              "    </div>\n",
              "  </div>\n",
              "  "
            ]
          },
          "metadata": {},
          "execution_count": 7
        }
      ]
    },
    {
      "cell_type": "markdown",
      "source": [
        "# Final Training\n",
        "Now training the model on all training data."
      ],
      "metadata": {
        "id": "SqNQ73F7299v"
      }
    },
    {
      "cell_type": "code",
      "source": [
        "model = keras.Sequential([\n",
        "    layers.Dense(128, activation=\"relu\"),\n",
        "    layers.Dense(64, activation=\"relu\"),\n",
        "    layers.Dense(46, activation=\"softmax\"),\n",
        "])\n",
        "\n",
        "model.compile(\n",
        "    optimizer=\"rmsprop\",\n",
        "    loss=\"sparse_categorical_crossentropy\",\n",
        "    metrics=[\"accuracy\"]\n",
        ")\n",
        "\n",
        "model.fit(\n",
        "    X_train,\n",
        "    y_train,\n",
        "    validation_data=(X_val, y_val),\n",
        "    epochs=6,\n",
        "    batch_size=256\n",
        ")"
      ],
      "metadata": {
        "id": "v6WYaXjby2W5",
        "outputId": "260a0c3a-194e-4852-b286-37c8511629ae",
        "colab": {
          "base_uri": "https://localhost:8080/"
        }
      },
      "execution_count": 8,
      "outputs": [
        {
          "output_type": "stream",
          "name": "stdout",
          "text": [
            "Epoch 1/6\n",
            "36/36 [==============================] - 2s 50ms/step - loss: 1.8372 - accuracy: 0.6235 - val_loss: 1.0209 - val_accuracy: 0.7630\n",
            "Epoch 2/6\n",
            "36/36 [==============================] - 2s 44ms/step - loss: 0.9089 - accuracy: 0.8084 - val_loss: 0.6198 - val_accuracy: 0.8650\n",
            "Epoch 3/6\n",
            "36/36 [==============================] - 2s 45ms/step - loss: 0.5828 - accuracy: 0.8786 - val_loss: 0.4169 - val_accuracy: 0.9050\n",
            "Epoch 4/6\n",
            "36/36 [==============================] - 2s 45ms/step - loss: 0.3977 - accuracy: 0.9164 - val_loss: 0.3215 - val_accuracy: 0.9280\n",
            "Epoch 5/6\n",
            "36/36 [==============================] - 2s 43ms/step - loss: 0.2969 - accuracy: 0.9336 - val_loss: 0.2136 - val_accuracy: 0.9540\n",
            "Epoch 6/6\n",
            "36/36 [==============================] - 2s 43ms/step - loss: 0.2326 - accuracy: 0.9447 - val_loss: 0.1801 - val_accuracy: 0.9640\n"
          ]
        },
        {
          "output_type": "execute_result",
          "data": {
            "text/plain": [
              "<keras.callbacks.History at 0x7fdf8f59a150>"
            ]
          },
          "metadata": {},
          "execution_count": 8
        }
      ]
    },
    {
      "cell_type": "code",
      "source": [
        "model.evaluate(X_test, y_test)"
      ],
      "metadata": {
        "id": "D9TfIxnn3Vsw",
        "outputId": "7744df70-186a-4f6a-c973-bc3a060d5d96",
        "colab": {
          "base_uri": "https://localhost:8080/"
        }
      },
      "execution_count": 9,
      "outputs": [
        {
          "output_type": "stream",
          "name": "stdout",
          "text": [
            "71/71 [==============================] - 0s 5ms/step - loss: 1.0358 - accuracy: 0.7947\n"
          ]
        },
        {
          "output_type": "execute_result",
          "data": {
            "text/plain": [
              "[1.0357786417007446, 0.7947462201118469]"
            ]
          },
          "metadata": {},
          "execution_count": 9
        }
      ]
    },
    {
      "cell_type": "code",
      "source": [
        ""
      ],
      "metadata": {
        "id": "6_hJ2djd3Xof"
      },
      "execution_count": null,
      "outputs": []
    }
  ]
}