{
  "nbformat": 4,
  "nbformat_minor": 0,
  "metadata": {
    "colab": {
      "name": "newswires_classification.ipynb",
      "provenance": [],
      "authorship_tag": "ABX9TyM+ZYxePCcn3YWvNjtiRMdM",
      "include_colab_link": true
    },
    "kernelspec": {
      "name": "python3",
      "display_name": "Python 3"
    },
    "language_info": {
      "name": "python"
    }
  },
  "cells": [
    {
      "cell_type": "markdown",
      "metadata": {
        "id": "view-in-github",
        "colab_type": "text"
      },
      "source": [
        "<a href=\"https://colab.research.google.com/github/biraj21/deep_learning_with_tf/blob/main/ch4/newswires_classifier.ipynb\" target=\"_parent\"><img src=\"https://colab.research.google.com/assets/colab-badge.svg\" alt=\"Open In Colab\"/></a>"
      ]
    },
    {
      "cell_type": "code",
      "execution_count": 1,
      "metadata": {
        "id": "qrihJnqgb62z"
      },
      "outputs": [],
      "source": [
        "import numpy as np\n",
        "from tensorflow import keras\n",
        "from tensorflow.keras import layers\n",
        "from tensorflow.keras.datasets import reuters"
      ]
    },
    {
      "cell_type": "code",
      "source": [
        "def vectorize_sequences(sequences, dims=10_000):\n",
        "    result = np.zeros((len(sequences), dims))\n",
        "    for i, sequence in enumerate(sequences):\n",
        "        for word_index in sequence:\n",
        "            result[i, word_index] = 1\n",
        "\n",
        "    return result"
      ],
      "metadata": {
        "id": "oDU87EGAnxLB"
      },
      "execution_count": 2,
      "outputs": []
    },
    {
      "cell_type": "code",
      "source": [
        "(x_train, y_train), (x_test, y_test) = reuters.load_data(num_words=10_000)\n",
        "x_train = vectorize_sequences(x_train)\n",
        "x_test = vectorize_sequences(x_test)"
      ],
      "metadata": {
        "id": "hJYidfc2cpgg"
      },
      "execution_count": 3,
      "outputs": []
    },
    {
      "cell_type": "code",
      "source": [
        "model = keras.Sequential([\n",
        "    layers.Dense(128, activation=\"relu\"),\n",
        "    layers.Dense(46, activation=\"softmax\"),\n",
        "])\n",
        "\n",
        "model.compile(\n",
        "    optimizer=\"rmsprop\",\n",
        "    loss=\"sparse_categorical_crossentropy\",\n",
        "    metrics=[\"accuracy\"]\n",
        ")\n",
        "\n",
        "history = model.fit(\n",
        "    x_train, y_train,\n",
        "    epochs=6,\n",
        "    batch_size=256\n",
        ")"
      ],
      "metadata": {
        "colab": {
          "base_uri": "https://localhost:8080/"
        },
        "id": "gX75EBPZfb5z",
        "outputId": "5080c6ee-8646-41b8-b29a-7a53e2b3b321"
      },
      "execution_count": 4,
      "outputs": [
        {
          "output_type": "stream",
          "name": "stdout",
          "text": [
            "Epoch 1/6\n",
            "36/36 [==============================] - 2s 52ms/step - loss: 1.7992 - accuracy: 0.6552\n",
            "Epoch 2/6\n",
            "36/36 [==============================] - 2s 69ms/step - loss: 0.8601 - accuracy: 0.8244\n",
            "Epoch 3/6\n",
            "36/36 [==============================] - 2s 56ms/step - loss: 0.5649 - accuracy: 0.8847\n",
            "Epoch 4/6\n",
            "36/36 [==============================] - 1s 34ms/step - loss: 0.3970 - accuracy: 0.9181\n",
            "Epoch 5/6\n",
            "36/36 [==============================] - 1s 34ms/step - loss: 0.2955 - accuracy: 0.9338\n",
            "Epoch 6/6\n",
            "36/36 [==============================] - 1s 34ms/step - loss: 0.2334 - accuracy: 0.9443\n"
          ]
        }
      ]
    },
    {
      "cell_type": "code",
      "source": [
        "model.evaluate(x_test, y_test)"
      ],
      "metadata": {
        "colab": {
          "base_uri": "https://localhost:8080/"
        },
        "id": "uqQhr4P6il8h",
        "outputId": "43c42c5a-461c-4e03-8b3e-2e56531fa039"
      },
      "execution_count": 5,
      "outputs": [
        {
          "output_type": "stream",
          "name": "stdout",
          "text": [
            "71/71 [==============================] - 0s 3ms/step - loss: 0.8848 - accuracy: 0.8014\n"
          ]
        },
        {
          "output_type": "execute_result",
          "data": {
            "text/plain": [
              "[0.8847751617431641, 0.8014247417449951]"
            ]
          },
          "metadata": {},
          "execution_count": 5
        }
      ]
    }
  ]
}