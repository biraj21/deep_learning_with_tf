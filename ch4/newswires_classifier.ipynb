{
  "nbformat": 4,
  "nbformat_minor": 0,
  "metadata": {
    "colab": {
      "name": "newswires_classification.ipynb",
      "provenance": [],
      "authorship_tag": "ABX9TyO3WlAgxLGGNxb5j7YXsD/3",
      "include_colab_link": true
    },
    "kernelspec": {
      "name": "python3",
      "display_name": "Python 3"
    },
    "language_info": {
      "name": "python"
    }
  },
  "cells": [
    {
      "cell_type": "markdown",
      "metadata": {
        "id": "view-in-github",
        "colab_type": "text"
      },
      "source": [
        "<a href=\"https://colab.research.google.com/github/biraj21/deep_learning_with_tf/blob/main/ch4/newswires_classifier.ipynb\" target=\"_parent\"><img src=\"https://colab.research.google.com/assets/colab-badge.svg\" alt=\"Open In Colab\"/></a>"
      ]
    },
    {
      "cell_type": "code",
      "execution_count": 2,
      "metadata": {
        "id": "qrihJnqgb62z"
      },
      "outputs": [],
      "source": [
        "import numpy as np\n",
        "import pandas as pd\n",
        "from tensorflow import keras\n",
        "from tensorflow.keras import layers\n",
        "from tensorflow.keras.datasets import reuters"
      ]
    },
    {
      "cell_type": "code",
      "source": [
        "def vectorize_sequences(sequences, dims=10_000):\n",
        "    result = np.zeros((len(sequences), dims))\n",
        "    for i, sequence in enumerate(sequences):\n",
        "        for word_index in sequence:\n",
        "            result[i, word_index] = 1\n",
        "\n",
        "    return result"
      ],
      "metadata": {
        "id": "oDU87EGAnxLB"
      },
      "execution_count": 3,
      "outputs": []
    },
    {
      "cell_type": "code",
      "source": [
        "(x_train, y_train), (x_test, y_test) = reuters.load_data(num_words=10_000)"
      ],
      "metadata": {
        "id": "hJYidfc2cpgg"
      },
      "execution_count": 4,
      "outputs": []
    },
    {
      "cell_type": "markdown",
      "source": [
        "# Decoding sequences"
      ],
      "metadata": {
        "id": "lfux64Zw0j7W"
      }
    },
    {
      "cell_type": "code",
      "source": [
        "word_to_index = reuters.get_word_index()\n",
        "index_to_word = dict(\n",
        "    [(value, key) for key, value in word_to_index.items()]\n",
        ")\n",
        "\n",
        "def decode_sequence(encoded):\n",
        "    return \" \".join(index_to_word.get(i - 3, \"?\") for i in encoded)"
      ],
      "metadata": {
        "id": "JHbdT-W3xOeq"
      },
      "execution_count": 5,
      "outputs": []
    },
    {
      "cell_type": "code",
      "source": [
        "for i in range(5):\n",
        "    print(decode_sequence(x_train[i]))\n",
        "    print()"
      ],
      "metadata": {
        "id": "j2s2I78Hx4D0",
        "outputId": "17d759b3-e16f-4cc2-e1e5-86da35e5d67d",
        "colab": {
          "base_uri": "https://localhost:8080/"
        }
      },
      "execution_count": 6,
      "outputs": [
        {
          "output_type": "stream",
          "name": "stdout",
          "text": [
            "? ? ? said as a result of its december acquisition of space co it expects earnings per share in 1987 of 1 15 to 1 30 dlrs per share up from 70 cts in 1986 the company said pretax net should rise to nine to 10 mln dlrs from six mln dlrs in 1986 and rental operation revenues to 19 to 22 mln dlrs from 12 5 mln dlrs it said cash flow per share this year should be 2 50 to three dlrs reuter 3\n",
            "\n",
            "? generale de banque sa lt ? br and lt heller overseas corp of chicago have each taken 50 pct stakes in ? company sa ? factors generale de banque said in a statement it gave no financial details of the transaction sa ? ? turnover in 1986 was 17 5 billion belgian francs reuter 3\n",
            "\n",
            "? shr 3 28 dlrs vs 22 cts shr diluted 2 99 dlrs vs 22 cts net 46 0 mln vs 3 328 000 avg shrs 14 0 mln vs 15 2 mln year shr 5 41 dlrs vs 1 56 dlrs shr diluted 4 94 dlrs vs 1 50 dlrs net 78 2 mln vs 25 9 mln avg shrs 14 5 mln vs 15 1 mln note earnings per share reflect the two for one split effective january 6 1987 per share amounts are calculated after preferred stock dividends loss continuing operations for the qtr 1986 includes gains of sale of investments in ? corp of 14 mln dlrs and associated companies of 4 189 000 less writedowns of investments in national ? inc of 11 8 mln and ? corp of 15 6 mln reuter 3\n",
            "\n",
            "? the farmers home administration the u s agriculture department's farm lending arm could lose about seven billion dlrs in outstanding principal on its severely ? borrowers or about one fourth of its farm loan portfolio the general accounting office gao said in remarks prepared for delivery to the senate agriculture committee brian crowley senior associate director of gao also said that a preliminary analysis of proposed changes in ? financial eligibility standards indicated as many as one half of ? borrowers who received new loans from the agency in 1986 would be ? under the proposed system the agency has proposed evaluating ? credit using a variety of financial ratios instead of relying solely on ? ability senate agriculture committee chairman patrick leahy d vt ? the proposed eligibility changes telling ? administrator ? clark at a hearing that they would mark a dramatic shift in the agency's purpose away from being farmers' lender of last resort toward becoming a big city bank but clark defended the new regulations saying the agency had a responsibility to ? its 70 billion dlr loan portfolio in a ? yet ? manner crowley of gao ? ? arm said the proposed credit ? system attempted to ensure that ? would make loans only to borrowers who had a reasonable change of repaying their debt reuter 3\n",
            "\n",
            "? seton co said its board has received a proposal from chairman and chief executive officer philip d ? to acquire seton for 15 75 dlrs per share in cash seton said the acquisition bid is subject to ? arranging the necessary financing it said he intends to ask other members of senior management to participate the company said ? owns 30 pct of seton stock and other management members another 7 5 pct seton said it has formed an independent board committee to consider the offer and has deferred the annual meeting it had scheduled for march 31 reuter 3\n",
            "\n"
          ]
        }
      ]
    },
    {
      "cell_type": "markdown",
      "source": [
        "# Data Preprocessing"
      ],
      "metadata": {
        "id": "IreRrbfc1q_s"
      }
    },
    {
      "cell_type": "code",
      "source": [
        "x_train = vectorize_sequences(x_train)\n",
        "x_test = vectorize_sequences(x_test)"
      ],
      "metadata": {
        "id": "EnJ14_TwyYWj"
      },
      "execution_count": 7,
      "outputs": []
    },
    {
      "cell_type": "markdown",
      "source": [
        "# Holdout Validation and Training"
      ],
      "metadata": {
        "id": "WGS_BoZc2yhW"
      }
    },
    {
      "cell_type": "code",
      "source": [
        "# setting aside 1000 training samples for model validation\n",
        "x_val = x_train[:1000]\n",
        "y_val = y_train[:1000]\n",
        "\n",
        "partial_x_train = x_train[1000:]\n",
        "partial_y_train = y_train[1000:]"
      ],
      "metadata": {
        "id": "VziMhEgDqjwD"
      },
      "execution_count": 8,
      "outputs": []
    },
    {
      "cell_type": "code",
      "source": [
        "model = keras.Sequential([\n",
        "    layers.Dense(128, activation=\"relu\"),\n",
        "    layers.Dense(64, activation=\"relu\"),\n",
        "    layers.Dense(46, activation=\"softmax\"),\n",
        "])\n",
        "\n",
        "model.compile(\n",
        "    optimizer=\"rmsprop\",\n",
        "    loss=\"sparse_categorical_crossentropy\",\n",
        "    metrics=[\"accuracy\"]\n",
        ")\n",
        "\n",
        "history = model.fit(\n",
        "    partial_x_train, \n",
        "    partial_y_train,\n",
        "    epochs=20,\n",
        "    batch_size=512,\n",
        "    validation_data=(x_val, y_val),\n",
        "    verbose=2\n",
        ")\n",
        "\n",
        "epochs_range = range(1, 21)\n",
        "df_history = pd.DataFrame(history.history, index=epochs_range)"
      ],
      "metadata": {
        "id": "cokfOR2WwE-f",
        "outputId": "b86f77bc-3742-412e-8255-5ddd252f98db",
        "colab": {
          "base_uri": "https://localhost:8080/"
        }
      },
      "execution_count": 9,
      "outputs": [
        {
          "output_type": "stream",
          "name": "stdout",
          "text": [
            "Epoch 1/20\n",
            "16/16 - 2s - loss: 2.3501 - accuracy: 0.5388 - val_loss: 1.4900 - val_accuracy: 0.6860 - 2s/epoch - 129ms/step\n",
            "Epoch 2/20\n",
            "16/16 - 1s - loss: 1.1945 - accuracy: 0.7523 - val_loss: 1.1481 - val_accuracy: 0.7500 - 1s/epoch - 72ms/step\n",
            "Epoch 3/20\n",
            "16/16 - 1s - loss: 0.8526 - accuracy: 0.8178 - val_loss: 1.0208 - val_accuracy: 0.7810 - 1s/epoch - 73ms/step\n",
            "Epoch 4/20\n",
            "16/16 - 1s - loss: 0.6383 - accuracy: 0.8666 - val_loss: 0.9659 - val_accuracy: 0.7930 - 1s/epoch - 72ms/step\n",
            "Epoch 5/20\n",
            "16/16 - 1s - loss: 0.4826 - accuracy: 0.8991 - val_loss: 0.9171 - val_accuracy: 0.8060 - 1s/epoch - 72ms/step\n",
            "Epoch 6/20\n",
            "16/16 - 1s - loss: 0.3732 - accuracy: 0.9225 - val_loss: 0.8598 - val_accuracy: 0.8210 - 1s/epoch - 71ms/step\n",
            "Epoch 7/20\n",
            "16/16 - 1s - loss: 0.2883 - accuracy: 0.9362 - val_loss: 0.8870 - val_accuracy: 0.8180 - 1s/epoch - 70ms/step\n",
            "Epoch 8/20\n",
            "16/16 - 1s - loss: 0.2340 - accuracy: 0.9474 - val_loss: 0.9215 - val_accuracy: 0.8090 - 1s/epoch - 70ms/step\n",
            "Epoch 9/20\n",
            "16/16 - 1s - loss: 0.2014 - accuracy: 0.9486 - val_loss: 0.8759 - val_accuracy: 0.8150 - 1s/epoch - 73ms/step\n",
            "Epoch 10/20\n",
            "16/16 - 1s - loss: 0.1734 - accuracy: 0.9535 - val_loss: 0.9264 - val_accuracy: 0.8090 - 1s/epoch - 71ms/step\n",
            "Epoch 11/20\n",
            "16/16 - 2s - loss: 0.1564 - accuracy: 0.9550 - val_loss: 0.9812 - val_accuracy: 0.8150 - 2s/epoch - 97ms/step\n",
            "Epoch 12/20\n",
            "16/16 - 1s - loss: 0.1432 - accuracy: 0.9582 - val_loss: 0.9647 - val_accuracy: 0.8050 - 1s/epoch - 84ms/step\n",
            "Epoch 13/20\n",
            "16/16 - 1s - loss: 0.1339 - accuracy: 0.9568 - val_loss: 0.9536 - val_accuracy: 0.8210 - 1s/epoch - 71ms/step\n",
            "Epoch 14/20\n",
            "16/16 - 1s - loss: 0.1248 - accuracy: 0.9575 - val_loss: 1.0446 - val_accuracy: 0.8010 - 1s/epoch - 71ms/step\n",
            "Epoch 15/20\n",
            "16/16 - 1s - loss: 0.1218 - accuracy: 0.9577 - val_loss: 1.0557 - val_accuracy: 0.7990 - 1s/epoch - 70ms/step\n",
            "Epoch 16/20\n",
            "16/16 - 1s - loss: 0.1187 - accuracy: 0.9575 - val_loss: 1.1403 - val_accuracy: 0.7880 - 1s/epoch - 70ms/step\n",
            "Epoch 17/20\n",
            "16/16 - 1s - loss: 0.1161 - accuracy: 0.9557 - val_loss: 1.0705 - val_accuracy: 0.7970 - 1s/epoch - 71ms/step\n",
            "Epoch 18/20\n",
            "16/16 - 1s - loss: 0.1114 - accuracy: 0.9585 - val_loss: 1.1585 - val_accuracy: 0.7820 - 1s/epoch - 70ms/step\n",
            "Epoch 19/20\n",
            "16/16 - 1s - loss: 0.1071 - accuracy: 0.9574 - val_loss: 1.1065 - val_accuracy: 0.8030 - 1s/epoch - 72ms/step\n",
            "Epoch 20/20\n",
            "16/16 - 1s - loss: 0.1107 - accuracy: 0.9562 - val_loss: 1.1104 - val_accuracy: 0.7970 - 1s/epoch - 71ms/step\n"
          ]
        }
      ]
    },
    {
      "cell_type": "code",
      "source": [
        "df_history.loc[:, [\"loss\",\"val_loss\"]].plot(\n",
        "    xticks=epochs_range,\n",
        "    xlabel=\"Epochs\",\n",
        "    ylabel=\"Loss\"\n",
        ")\n",
        "df_history.loc[:, [\"accuracy\", \"val_accuracy\"]].plot(\n",
        "    xticks=epochs_range,\n",
        "    xlabel=\"Epochs\",\n",
        "    ylabel=\"Accuracy\"\n",
        ")"
      ],
      "metadata": {
        "id": "OdEjhpo8sSRa",
        "outputId": "d3054f18-26ca-493c-e96c-4477fe0bee3a",
        "colab": {
          "base_uri": "https://localhost:8080/",
          "height": 558
        }
      },
      "execution_count": 10,
      "outputs": [
        {
          "output_type": "execute_result",
          "data": {
            "text/plain": [
              "<matplotlib.axes._subplots.AxesSubplot at 0x7f3c3405e4d0>"
            ]
          },
          "metadata": {},
          "execution_count": 10
        },
        {
          "output_type": "display_data",
          "data": {
            "text/plain": [
              "<Figure size 432x288 with 1 Axes>"
            ],
            "image/png": "[encoded data removed]"
          },
          "metadata": {
            "needs_background": "light"
          }
        },
        {
          "output_type": "display_data",
          "data": {
            "text/plain": [
              "<Figure size 432x288 with 1 Axes>"
            ],
            "image/png": "[encoded data removed]"
          },
          "metadata": {
            "needs_background": "light"
          }
        }
      ]
    },
    {
      "cell_type": "code",
      "source": [
        "df_history.head(10)"
      ],
      "metadata": {
        "id": "keYUJJ6nu3VE",
        "outputId": "f0e80c10-5554-43a4-e13e-4299226fadc6",
        "colab": {
          "base_uri": "https://localhost:8080/",
          "height": 363
        }
      },
      "execution_count": 11,
      "outputs": [
        {
          "output_type": "execute_result",
          "data": {
            "text/plain": [
              "        loss  accuracy  val_loss  val_accuracy\n",
              "1   2.350087  0.538837  1.489990         0.686\n",
              "2   1.194458  0.752318  1.148117         0.750\n",
              "3   0.852635  0.817840  1.020842         0.781\n",
              "4   0.638312  0.866575  0.965915         0.793\n",
              "5   0.482558  0.899148  0.917090         0.806\n",
              "6   0.373183  0.922451  0.859773         0.821\n",
              "7   0.288317  0.936231  0.887022         0.818\n",
              "8   0.234042  0.947382  0.921533         0.809\n",
              "9   0.201380  0.948634  0.875880         0.815\n",
              "10  0.173389  0.953520  0.926357         0.809"
            ],
            "text/html": [
              "\n",
              "  <div id=\"df-8bc53829-f37c-436b-b477-85fdfe4800ab\">\n",
              "    <div class=\"colab-df-container\">\n",
              "      <div>\n",
              "<style scoped>\n",
              "    .dataframe tbody tr th:only-of-type {\n",
              "        vertical-align: middle;\n",
              "    }\n",
              "\n",
              "    .dataframe tbody tr th {\n",
              "        vertical-align: top;\n",
              "    }\n",
              "\n",
              "    .dataframe thead th {\n",
              "        text-align: right;\n",
              "    }\n",
              "</style>\n",
              "<table border=\"1\" class=\"dataframe\">\n",
              "  <thead>\n",
              "    <tr style=\"text-align: right;\">\n",
              "      <th></th>\n",
              "      <th>loss</th>\n",
              "      <th>accuracy</th>\n",
              "      <th>val_loss</th>\n",
              "      <th>val_accuracy</th>\n",
              "    </tr>\n",
              "  </thead>\n",
              "  <tbody>\n",
              "    <tr>\n",
              "      <th>1</th>\n",
              "      <td>2.350087</td>\n",
              "      <td>0.538837</td>\n",
              "      <td>1.489990</td>\n",
              "      <td>0.686</td>\n",
              "    </tr>\n",
              "    <tr>\n",
              "      <th>2</th>\n",
              "      <td>1.194458</td>\n",
              "      <td>0.752318</td>\n",
              "      <td>1.148117</td>\n",
              "      <td>0.750</td>\n",
              "    </tr>\n",
              "    <tr>\n",
              "      <th>3</th>\n",
              "      <td>0.852635</td>\n",
              "      <td>0.817840</td>\n",
              "      <td>1.020842</td>\n",
              "      <td>0.781</td>\n",
              "    </tr>\n",
              "    <tr>\n",
              "      <th>4</th>\n",
              "      <td>0.638312</td>\n",
              "      <td>0.866575</td>\n",
              "      <td>0.965915</td>\n",
              "      <td>0.793</td>\n",
              "    </tr>\n",
              "    <tr>\n",
              "      <th>5</th>\n",
              "      <td>0.482558</td>\n",
              "      <td>0.899148</td>\n",
              "      <td>0.917090</td>\n",
              "      <td>0.806</td>\n",
              "    </tr>\n",
              "    <tr>\n",
              "      <th>6</th>\n",
              "      <td>0.373183</td>\n",
              "      <td>0.922451</td>\n",
              "      <td>0.859773</td>\n",
              "      <td>0.821</td>\n",
              "    </tr>\n",
              "    <tr>\n",
              "      <th>7</th>\n",
              "      <td>0.288317</td>\n",
              "      <td>0.936231</td>\n",
              "      <td>0.887022</td>\n",
              "      <td>0.818</td>\n",
              "    </tr>\n",
              "    <tr>\n",
              "      <th>8</th>\n",
              "      <td>0.234042</td>\n",
              "      <td>0.947382</td>\n",
              "      <td>0.921533</td>\n",
              "      <td>0.809</td>\n",
              "    </tr>\n",
              "    <tr>\n",
              "      <th>9</th>\n",
              "      <td>0.201380</td>\n",
              "      <td>0.948634</td>\n",
              "      <td>0.875880</td>\n",
              "      <td>0.815</td>\n",
              "    </tr>\n",
              "    <tr>\n",
              "      <th>10</th>\n",
              "      <td>0.173389</td>\n",
              "      <td>0.953520</td>\n",
              "      <td>0.926357</td>\n",
              "      <td>0.809</td>\n",
              "    </tr>\n",
              "  </tbody>\n",
              "</table>\n",
              "</div>\n",
              "      <button class=\"colab-df-convert\" onclick=\"convertToInteractive('df-8bc53829-f37c-436b-b477-85fdfe4800ab')\"\n",
              "              title=\"Convert this dataframe to an interactive table.\"\n",
              "              style=\"display:none;\">\n",
              "        \n",
              "  <svg xmlns=\"http://www.w3.org/2000/svg\" height=\"24px\"viewBox=\"0 0 24 24\"\n",
              "       width=\"24px\">\n",
              "    <path d=\"M0 0h24v24H0V0z\" fill=\"none\"/>\n",
              "    <path d=\"M18.56 5.44l.94 2.06.94-2.06 2.06-.94-2.06-.94-.94-2.06-.94 2.06-2.06.94zm-11 1L8.5 8.5l.94-2.06 2.06-.94-2.06-.94L8.5 2.5l-.94 2.06-2.06.94zm10 10l.94 2.06.94-2.06 2.06-.94-2.06-.94-.94-2.06-.94 2.06-2.06.94z\"/><path d=\"M17.41 7.96l-1.37-1.37c-.4-.4-.92-.59-1.43-.59-.52 0-1.04.2-1.43.59L10.3 9.45l-7.72 7.72c-.78.78-.78 2.05 0 2.83L4 21.41c.39.39.9.59 1.41.59.51 0 1.02-.2 1.41-.59l7.78-7.78 2.81-2.81c.8-.78.8-2.07 0-2.86zM5.41 20L4 18.59l7.72-7.72 1.47 1.35L5.41 20z\"/>\n",
              "  </svg>\n",
              "      </button>\n",
              "      \n",
              "  <style>\n",
              "    .colab-df-container {\n",
              "      display:flex;\n",
              "      flex-wrap:wrap;\n",
              "      gap: 12px;\n",
              "    }\n",
              "\n",
              "    .colab-df-convert {\n",
              "      background-color: #E8F0FE;\n",
              "      border: none;\n",
              "      border-radius: 50%;\n",
              "      cursor: pointer;\n",
              "      display: none;\n",
              "      fill: #1967D2;\n",
              "      height: 32px;\n",
              "      padding: 0 0 0 0;\n",
              "      width: 32px;\n",
              "    }\n",
              "\n",
              "    .colab-df-convert:hover {\n",
              "      background-color: #E2EBFA;\n",
              "      box-shadow: 0px 1px 2px rgba(60, 64, 67, 0.3), 0px 1px 3px 1px rgba(60, 64, 67, 0.15);\n",
              "      fill: #174EA6;\n",
              "    }\n",
              "\n",
              "    [theme=dark] .colab-df-convert {\n",
              "      background-color: #3B4455;\n",
              "      fill: #D2E3FC;\n",
              "    }\n",
              "\n",
              "    [theme=dark] .colab-df-convert:hover {\n",
              "      background-color: #434B5C;\n",
              "      box-shadow: 0px 1px 3px 1px rgba(0, 0, 0, 0.15);\n",
              "      filter: drop-shadow(0px 1px 2px rgba(0, 0, 0, 0.3));\n",
              "      fill: #FFFFFF;\n",
              "    }\n",
              "  </style>\n",
              "\n",
              "      <script>\n",
              "        const buttonEl =\n",
              "          document.querySelector('#df-8bc53829-f37c-436b-b477-85fdfe4800ab button.colab-df-convert');\n",
              "        buttonEl.style.display =\n",
              "          google.colab.kernel.accessAllowed ? 'block' : 'none';\n",
              "\n",
              "        async function convertToInteractive(key) {\n",
              "          const element = document.querySelector('#df-8bc53829-f37c-436b-b477-85fdfe4800ab');\n",
              "          const dataTable =\n",
              "            await google.colab.kernel.invokeFunction('convertToInteractive',\n",
              "                                                     [key], {});\n",
              "          if (!dataTable) return;\n",
              "\n",
              "          const docLinkHtml = 'Like what you see? Visit the ' +\n",
              "            '<a target=\"_blank\" href=https://colab.research.google.com/notebooks/data_table.ipynb>data table notebook</a>'\n",
              "            + ' to learn more about interactive tables.';\n",
              "          element.innerHTML = '';\n",
              "          dataTable['output_type'] = 'display_data';\n",
              "          await google.colab.output.renderOutput(dataTable, element);\n",
              "          const docLink = document.createElement('div');\n",
              "          docLink.innerHTML = docLinkHtml;\n",
              "          element.appendChild(docLink);\n",
              "        }\n",
              "      </script>\n",
              "    </div>\n",
              "  </div>\n",
              "  "
            ]
          },
          "metadata": {},
          "execution_count": 11
        }
      ]
    },
    {
      "cell_type": "markdown",
      "source": [
        "# Final Training\n",
        "Now training the model on all training data."
      ],
      "metadata": {
        "id": "SqNQ73F7299v"
      }
    },
    {
      "cell_type": "code",
      "source": [
        "model = keras.Sequential([\n",
        "    layers.Dense(128, activation=\"relu\"),\n",
        "    layers.Dense(64, activation=\"relu\"),\n",
        "    layers.Dense(46, activation=\"softmax\"),\n",
        "])\n",
        "\n",
        "model.compile(\n",
        "    optimizer=\"rmsprop\",\n",
        "    loss=\"sparse_categorical_crossentropy\",\n",
        "    metrics=[\"accuracy\"]\n",
        ")\n",
        "\n",
        "model.fit(\n",
        "    x_train,\n",
        "    y_train,\n",
        "    epochs=6,\n",
        "    batch_size=512,\n",
        "    verbose=2\n",
        ")"
      ],
      "metadata": {
        "id": "v6WYaXjby2W5",
        "outputId": "6eb01dbe-4622-466c-f791-67de99319064",
        "colab": {
          "base_uri": "https://localhost:8080/"
        }
      },
      "execution_count": 12,
      "outputs": [
        {
          "output_type": "stream",
          "name": "stdout",
          "text": [
            "Epoch 1/6\n",
            "18/18 - 2s - loss: 2.3434 - accuracy: 0.5876 - 2s/epoch - 95ms/step\n",
            "Epoch 2/6\n",
            "18/18 - 1s - loss: 1.1266 - accuracy: 0.7620 - 1s/epoch - 81ms/step\n",
            "Epoch 3/6\n",
            "18/18 - 1s - loss: 0.7907 - accuracy: 0.8367 - 1s/epoch - 72ms/step\n",
            "Epoch 4/6\n",
            "18/18 - 1s - loss: 0.5809 - accuracy: 0.8803 - 1s/epoch - 65ms/step\n",
            "Epoch 5/6\n",
            "18/18 - 1s - loss: 0.4386 - accuracy: 0.9068 - 1s/epoch - 66ms/step\n",
            "Epoch 6/6\n",
            "18/18 - 1s - loss: 0.3403 - accuracy: 0.9282 - 1s/epoch - 66ms/step\n"
          ]
        },
        {
          "output_type": "execute_result",
          "data": {
            "text/plain": [
              "<keras.callbacks.History at 0x7f3c317de210>"
            ]
          },
          "metadata": {},
          "execution_count": 12
        }
      ]
    },
    {
      "cell_type": "code",
      "source": [
        "model.evaluate(x_test, y_test)"
      ],
      "metadata": {
        "id": "D9TfIxnn3Vsw",
        "outputId": "09220c99-b1be-4b8e-eecd-cf1a6e053c50",
        "colab": {
          "base_uri": "https://localhost:8080/"
        }
      },
      "execution_count": 13,
      "outputs": [
        {
          "output_type": "stream",
          "name": "stdout",
          "text": [
            "71/71 [==============================] - 0s 4ms/step - loss: 0.9321 - accuracy: 0.7930\n"
          ]
        },
        {
          "output_type": "execute_result",
          "data": {
            "text/plain": [
              "[0.9321408867835999, 0.792965292930603]"
            ]
          },
          "metadata": {},
          "execution_count": 13
        }
      ]
    },
    {
      "cell_type": "code",
      "source": [
        ""
      ],
      "metadata": {
        "id": "Pyzo10ic5B1B"
      },
      "execution_count": null,
      "outputs": []
    }
  ]
}