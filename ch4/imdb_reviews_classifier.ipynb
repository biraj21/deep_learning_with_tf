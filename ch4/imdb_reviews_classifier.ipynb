{
  "nbformat": 4,
  "nbformat_minor": 0,
  "metadata": {
    "colab": {
      "name": "imdbipynb",
      "provenance": [],
      "collapsed_sections": []
    },
    "kernelspec": {
      "name": "python3",
      "display_name": "Python 3"
    },
    "language_info": {
      "name": "python"
    }
  },
  "cells": [
    {
      "cell_type": "code",
      "source": [
        "import numpy as np\n",
        "from tensorflow import keras\n",
        "from tensorflow.keras import layers\n",
        "from tensorflow.keras.datasets import imdb"
      ],
      "metadata": {
        "id": "nGCKJ1C2RxcQ"
      },
      "execution_count": 1,
      "outputs": []
    },
    {
      "cell_type": "code",
      "source": [
        "(train_data, train_labels), (test_data, test_labels) = imdb.load_data(num_words=10_000)\n",
        "word_index = imdb.get_word_index()\n",
        "index_to_word = dict(\n",
        "    [(value, key) for key, value in word_index.items()]\n",
        ")"
      ],
      "metadata": {
        "id": "V7QpYeqgeGfy"
      },
      "execution_count": 2,
      "outputs": []
    },
    {
      "cell_type": "code",
      "source": [
        "def vectorize_reviews(reviews, dims=10000):\n",
        "    results = np.zeros((len(reviews), dims))\n",
        "    for i, review in enumerate(reviews):\n",
        "        for word_index in review:\n",
        "            results[i, word_index] = 1\n",
        "\n",
        "    return results"
      ],
      "metadata": {
        "id": "gtEcL_EdoF6j"
      },
      "execution_count": 3,
      "outputs": []
    },
    {
      "cell_type": "code",
      "source": [
        "x_train = vectorize_reviews(train_data)\n",
        "x_test = vectorize_reviews(test_data)\n",
        "\n",
        "y_train = train_labels.astype(\"float32\")\n",
        "y_test = test_labels.astype(\"float32\")\n",
        "\n",
        "# x_val = x_train[:10_000]\n",
        "# y_val = y_train[:10_000]\n",
        "\n",
        "# partial_x_train = x_train[10_000:]\n",
        "# partial_y_train = y_train[10_000:]"
      ],
      "metadata": {
        "id": "A_Lp_Y6drXCR"
      },
      "execution_count": 4,
      "outputs": []
    },
    {
      "cell_type": "code",
      "source": [
        "model = keras.Sequential([\n",
        "    layers.Dense(16, activation=\"relu\"),\n",
        "    layers.Dense(16, activation=\"relu\"),\n",
        "    layers.Dense(1, activation=\"sigmoid\")\n",
        "])\n",
        "\n",
        "model.compile(\n",
        "    optimizer=\"rmsprop\",\n",
        "    loss=\"binary_crossentropy\",\n",
        "    metrics=[\"accuracy\"]\n",
        ")"
      ],
      "metadata": {
        "id": "LQm5LjmHsisQ"
      },
      "execution_count": 5,
      "outputs": []
    },
    {
      "cell_type": "code",
      "source": [
        "history = model.fit(\n",
        "    x_train,\n",
        "    y_train,\n",
        "    epochs=4,\n",
        "    batch_size=512\n",
        ")"
      ],
      "metadata": {
        "colab": {
          "base_uri": "https://localhost:8080/"
        },
        "id": "fSjMVokkx_jR",
        "outputId": "0d1c20f6-74b8-40b0-8b47-a15f9206c184"
      },
      "execution_count": 6,
      "outputs": [
        {
          "output_type": "stream",
          "name": "stdout",
          "text": [
            "Epoch 1/4\n",
            "49/49 [==============================] - 2s 24ms/step - loss: 0.4932 - accuracy: 0.8034\n",
            "Epoch 2/4\n",
            "49/49 [==============================] - 1s 24ms/step - loss: 0.2714 - accuracy: 0.9079\n",
            "Epoch 3/4\n",
            "49/49 [==============================] - 1s 24ms/step - loss: 0.2047 - accuracy: 0.9276\n",
            "Epoch 4/4\n",
            "49/49 [==============================] - 1s 24ms/step - loss: 0.1711 - accuracy: 0.9410\n"
          ]
        }
      ]
    },
    {
      "cell_type": "code",
      "source": [
        "results = model.evaluate(x_test, y_test)"
      ],
      "metadata": {
        "id": "9Pe0qmRby569",
        "colab": {
          "base_uri": "https://localhost:8080/"
        },
        "outputId": "c2c31f44-9322-4a7b-e336-10d7fd5d482f"
      },
      "execution_count": 7,
      "outputs": [
        {
          "output_type": "stream",
          "name": "stdout",
          "text": [
            "782/782 [==============================] - 2s 2ms/step - loss: 0.3153 - accuracy: 0.8744\n"
          ]
        }
      ]
    },
    {
      "cell_type": "code",
      "source": [
        "def decode_review(encoded):\n",
        "    return \" \".join(index_to_word.get(i - 3, \"?\") for i in encoded)\n",
        "\n",
        "def encode_review(review):\n",
        "    return np.array([1] + [word_index.get(word, -1) + 3 for word in review.split()])"
      ],
      "metadata": {
        "id": "LM4lB5Hzs-QU"
      },
      "execution_count": 8,
      "outputs": []
    },
    {
      "cell_type": "code",
      "source": [
        "my_reviews = vectorize_reviews([\n",
        "    encode_review(\"this movie sucks\"),\n",
        "    encode_review(\"i have never seen such a crap\"),\n",
        "    encode_review(\"i have never seen such a crap in my entire life\"),\n",
        "    encode_review(\"i have never watched such a masterpiece\"),\n",
        "    encode_review(\"i hate this movie\"),\n",
        "    encode_review(\"it's terrible\"),\n",
        "    encode_review(\"it's a really great movie\"),\n",
        "    encode_review(\"it was very boring movie totally not worth of time\"),\n",
        "    encode_review(\"very slow pace movie but everyone should watch it once\"),\n",
        "    encode_review(\"noice\"),\n",
        "])\n",
        "\n",
        "predictions = model.predict(my_reviews).reshape((-1,))\n",
        "for i, pred in enumerate(predictions, start=1):\n",
        "    print(f\"{i:2d}) Score: {pred:.6f}, Conclusion: {'+ve' if pred >= 0.5 else '-ve'}\")"
      ],
      "metadata": {
        "colab": {
          "base_uri": "https://localhost:8080/"
        },
        "id": "KJT5ty3modI7",
        "outputId": "0cc09a1b-ef13-4454-ca45-8d40ac294d60"
      },
      "execution_count": 9,
      "outputs": [
        {
          "output_type": "stream",
          "name": "stdout",
          "text": [
            " 1) Score: 0.360646, Conclusion: -ve\n",
            " 2) Score: 0.402339, Conclusion: -ve\n",
            " 3) Score: 0.384908, Conclusion: -ve\n",
            " 4) Score: 0.581699, Conclusion: +ve\n",
            " 5) Score: 0.489245, Conclusion: -ve\n",
            " 6) Score: 0.364143, Conclusion: -ve\n",
            " 7) Score: 0.659893, Conclusion: +ve\n",
            " 8) Score: 0.325038, Conclusion: -ve\n",
            " 9) Score: 0.612199, Conclusion: +ve\n",
            "10) Score: 0.469605, Conclusion: -ve\n"
          ]
        }
      ]
    }
  ]
}